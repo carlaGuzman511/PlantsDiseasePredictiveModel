{
  "nbformat": 4,
  "nbformat_minor": 0,
  "metadata": {
    "colab": {
      "provenance": [],
      "authorship_tag": "ABX9TyPefoAgiyG1rT0W0A/Jq8qG",
      "include_colab_link": true
    },
    "kernelspec": {
      "name": "python3",
      "display_name": "Python 3"
    },
    "language_info": {
      "name": "python"
    }
  },
  "cells": [
    {
      "cell_type": "markdown",
      "metadata": {
        "id": "view-in-github",
        "colab_type": "text"
      },
      "source": [
        "<a href=\"https://colab.research.google.com/github/carlaGuzman511/PlantsDiseasePredictiveModel/blob/main/TestPlantDisease.ipynb\" target=\"_parent\"><img src=\"https://colab.research.google.com/assets/colab-badge.svg\" alt=\"Open In Colab\"/></a>"
      ]
    },
    {
      "cell_type": "markdown",
      "source": [
        "**importamos las librerias**"
      ],
      "metadata": {
        "id": "hiBr1tAP-Hjn"
      }
    },
    {
      "cell_type": "code",
      "source": [
        "import numpy as np\n",
        "import tensorflow as tf\n",
        "from keras.preprocessing.image import ImageDataGenerator\n",
        "import matplotlib.pyplot as plt"
      ],
      "metadata": {
        "id": "dpFQ9WyI-K6W"
      },
      "execution_count": null,
      "outputs": []
    },
    {
      "cell_type": "markdown",
      "source": [
        "**Procesamiento de imagenes del set de validacion**\n",
        "\n"
      ],
      "metadata": {
        "id": "HT05QcZH-L1z"
      }
    },
    {
      "cell_type": "code",
      "source": [
        "validation_set = tf.keras.utils.image_dataset_from_directory(\n",
        "    'valid',\n",
        "    labels=\"inferred\",\n",
        "    label_mode=\"categorical\",\n",
        "    class_names=None,\n",
        "    color_mode=\"rgb\",\n",
        "    batch_size=32,\n",
        "    image_size=(128, 128),\n",
        "    shuffle=True,\n",
        "    seed=None,\n",
        "    validation_split=None,\n",
        "    subset=None,\n",
        "    interpolation=\"bilinear\",\n",
        "    follow_links=False,\n",
        "    crop_to_aspect_ratio=False\n",
        ")\n",
        "class_name = validation_set.class_names\n",
        "print(class_name)"
      ],
      "metadata": {
        "id": "f0jMl192-d26"
      },
      "execution_count": null,
      "outputs": []
    },
    {
      "cell_type": "markdown",
      "source": [
        "**cargamos el modelo**"
      ],
      "metadata": {
        "id": "F7ArmPbS-t84"
      }
    },
    {
      "cell_type": "code",
      "source": [
        "cnn = tf.keras.models.load_model('trained_plant_disease_model.keras')"
      ],
      "metadata": {
        "id": "nimgvNj9-rXi"
      },
      "execution_count": null,
      "outputs": []
    },
    {
      "cell_type": "markdown",
      "source": [
        "Visualización y realización de predicciones en una sola imagen"
      ],
      "metadata": {
        "id": "34aFJO6F-pkJ"
      }
    },
    {
      "cell_type": "code",
      "source": [
        "#Test Image Visualization\n",
        "import cv2\n",
        "image_path = 'test/test/AppleCedarRust1.JPG'\n",
        "# Reading an image in default mode\n",
        "img = cv2.imread(image_path)\n",
        "img = cv2.cvtColor(img,cv2.COLOR_BGR2RGB) #Converting BGR to RGB\n",
        "# Displaying the image\n",
        "plt.imshow(img)\n",
        "plt.title('Test Image')\n",
        "plt.xticks([])\n",
        "plt.yticks([])\n",
        "plt.show()"
      ],
      "metadata": {
        "id": "GCaIl7mU-oqn"
      },
      "execution_count": null,
      "outputs": []
    },
    {
      "cell_type": "markdown",
      "source": [
        "probamos el modelo"
      ],
      "metadata": {
        "id": "5w0cXZ6E_KtA"
      }
    },
    {
      "cell_type": "code",
      "source": [
        "image = tf.keras.preprocessing.image.load_img(image_path,target_size=(128,128))\n",
        "input_arr = tf.keras.preprocessing.image.img_to_array(image)\n",
        "input_arr = np.array([input_arr])  # Convert single image to a batch.\n",
        "predictions = cnn.predict(input_arr)"
      ],
      "metadata": {
        "id": "R6o3F2jJ_NVt"
      },
      "execution_count": null,
      "outputs": []
    },
    {
      "cell_type": "code",
      "source": [
        "print(predictions)"
      ],
      "metadata": {
        "id": "dOi4arOH_VNJ"
      },
      "execution_count": null,
      "outputs": []
    },
    {
      "cell_type": "code",
      "source": [
        "result_index = np.argmax(predictions) #Return index of max element\n",
        "print(result_index)"
      ],
      "metadata": {
        "id": "cA7yT00I_VwD"
      },
      "execution_count": null,
      "outputs": []
    },
    {
      "cell_type": "markdown",
      "source": [
        "mostramos la enfermedad predecida"
      ],
      "metadata": {
        "id": "qlbbLZuZ_iOR"
      }
    },
    {
      "cell_type": "code",
      "source": [
        "# Displaying the disease prediction\n",
        "model_prediction = class_name[result_index]\n",
        "plt.imshow(img)\n",
        "plt.title(f\"Disease Name: {model_prediction}\")\n",
        "plt.xticks([])\n",
        "plt.yticks([])\n",
        "plt.show()"
      ],
      "metadata": {
        "id": "K4EVPPhc_axs"
      },
      "execution_count": null,
      "outputs": []
    }
  ]
}